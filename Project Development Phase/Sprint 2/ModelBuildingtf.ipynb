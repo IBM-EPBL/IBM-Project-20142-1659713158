{
  "nbformat": 4,
  "nbformat_minor": 0,
  "metadata": {
    "colab": {
      "provenance": []
    },
    "kernelspec": {
      "name": "python3",
      "display_name": "Python 3"
    },
    "language_info": {
      "name": "python"
    }
  },
  "cells": [
    {
      "cell_type": "code",
      "source": [
        "from google.colab import drive\n",
        "drive.mount('/content/drive')"
      ],
      "metadata": {
        "colab": {
          "base_uri": "https://localhost:8080/"
        },
        "id": "J4Zv7Ig7K6fT",
        "outputId": "cbfe1858-16c7-419d-b72a-8c280c427a86"
      },
      "execution_count": 2,
      "outputs": [
        {
          "output_type": "stream",
          "name": "stdout",
          "text": [
            "Drive already mounted at /content/drive; to attempt to forcibly remount, call drive.mount(\"/content/drive\", force_remount=True).\n"
          ]
        }
      ]
    },
    {
      "cell_type": "code",
      "execution_count": 3,
      "metadata": {
        "id": "xB27jULqKu4U"
      },
      "outputs": [],
      "source": [
        "import numpy as np\n",
        "import tensorflow as tf\n",
        "from tensorflow import keras\n",
        "from keras.preprocessing.image import ImageDataGenerator\n",
        "from tensorflow.keras.models import Sequential\n",
        "from tensorflow.keras import layers\n",
        "from tensorflow.keras.layers import Dense,Flatten\n",
        "from tensorflow.keras.layers import Conv2D,MaxPooling2D"
      ]
    },
    {
      "cell_type": "code",
      "source": [
        "train_path = r\"/content/drive/MyDrive/IBM project/dataset/train\"\n",
        "test_path = r\"/content/drive/MyDrive/IBM project/dataset/test\""
      ],
      "metadata": {
        "id": "-Txd-YQpKzWe"
      },
      "execution_count": 4,
      "outputs": []
    },
    {
      "cell_type": "code",
      "source": [
        "train_datagen = ImageDataGenerator(rescale=1./255, shear_range = 0.2, zoom_range=0.2, horizontal_flip = True)\n",
        "test_datagen = ImageDataGenerator(rescale=1./255)"
      ],
      "metadata": {
        "id": "hS2hP-wVLC09"
      },
      "execution_count": 5,
      "outputs": []
    },
    {
      "cell_type": "code",
      "source": [
        "x_train = train_datagen.flow_from_directory(directory = train_path, target_size=(64,64), batch_size=32, class_mode= \"categorical\")\n",
        "x_test = train_datagen.flow_from_directory(directory =test_path, target_size=(64,64), batch_size=32, class_mode= \"categorical\")"
      ],
      "metadata": {
        "colab": {
          "base_uri": "https://localhost:8080/"
        },
        "id": "kReTl2_MLDTt",
        "outputId": "376eae75-1ead-4652-98a5-0a8e3a5db227"
      },
      "execution_count": 6,
      "outputs": [
        {
          "output_type": "stream",
          "name": "stdout",
          "text": [
            "Found 15341 images belonging to 6 classes.\n",
            "Found 6825 images belonging to 6 classes.\n"
          ]
        }
      ]
    },
    {
      "cell_type": "code",
      "source": [
        "model=Sequential()"
      ],
      "metadata": {
        "id": "F8Uxsu1pLFOC"
      },
      "execution_count": 7,
      "outputs": []
    },
    {
      "cell_type": "code",
      "source": [
        "model.add(Conv2D(32,(3,3),input_shape=(64,64,3),activation='relu'))\n",
        "model.add(MaxPooling2D(pool_size=(2,2)))\n",
        "\n",
        "model.add(Conv2D(32,(3,3),activation='relu'))\n",
        "model.add(MaxPooling2D(pool_size=(2,2)))\n",
        "\n",
        "model.add(Flatten())\n",
        "\n",
        "model.add(Dense(32))\n",
        "model.add(Dense(6, activation='softmax'))"
      ],
      "metadata": {
        "id": "ox5g3avlLHm4"
      },
      "execution_count": 8,
      "outputs": []
    },
    {
      "cell_type": "code",
      "source": [
        "model.summary()"
      ],
      "metadata": {
        "colab": {
          "base_uri": "https://localhost:8080/"
        },
        "id": "jIL2KC9NLJqM",
        "outputId": "effc8486-9f31-438b-9930-58ce4a4cfcba"
      },
      "execution_count": 9,
      "outputs": [
        {
          "output_type": "stream",
          "name": "stdout",
          "text": [
            "Model: \"sequential\"\n",
            "_________________________________________________________________\n",
            " Layer (type)                Output Shape              Param #   \n",
            "=================================================================\n",
            " conv2d (Conv2D)             (None, 62, 62, 32)        896       \n",
            "                                                                 \n",
            " max_pooling2d (MaxPooling2D  (None, 31, 31, 32)       0         \n",
            " )                                                               \n",
            "                                                                 \n",
            " conv2d_1 (Conv2D)           (None, 29, 29, 32)        9248      \n",
            "                                                                 \n",
            " max_pooling2d_1 (MaxPooling  (None, 14, 14, 32)       0         \n",
            " 2D)                                                             \n",
            "                                                                 \n",
            " flatten (Flatten)           (None, 6272)              0         \n",
            "                                                                 \n",
            " dense (Dense)               (None, 32)                200736    \n",
            "                                                                 \n",
            " dense_1 (Dense)             (None, 6)                 198       \n",
            "                                                                 \n",
            "=================================================================\n",
            "Total params: 211,078\n",
            "Trainable params: 211,078\n",
            "Non-trainable params: 0\n",
            "_________________________________________________________________\n"
          ]
        }
      ]
    },
    {
      "cell_type": "code",
      "source": [
        "model.compile(optimizer='adam', loss='categorical_crossentropy', metrics=['accuracy'])"
      ],
      "metadata": {
        "id": "VMTO7U-CLLsb"
      },
      "execution_count": 10,
      "outputs": []
    },
    {
      "cell_type": "code",
      "source": [
        "model.fit(x=x_train,  epochs=5, validation_data=x_test)"
      ],
      "metadata": {
        "colab": {
          "base_uri": "https://localhost:8080/"
        },
        "id": "5nukJUdYLNx2",
        "outputId": "9044b50a-5958-443b-f420-d5b02e302a2f"
      },
      "execution_count": 12,
      "outputs": [
        {
          "output_type": "stream",
          "name": "stdout",
          "text": [
            "Epoch 1/5\n",
            "480/480 [==============================] - 11057s 23s/step - loss: 0.6662 - accuracy: 0.7746 - val_loss: 0.4629 - val_accuracy: 0.8517\n",
            "Epoch 2/5\n",
            "480/480 [==============================] - 117s 244ms/step - loss: 0.2755 - accuracy: 0.9192 - val_loss: 0.4083 - val_accuracy: 0.8614\n",
            "Epoch 3/5\n",
            "480/480 [==============================] - 114s 237ms/step - loss: 0.2328 - accuracy: 0.9316 - val_loss: 0.3736 - val_accuracy: 0.8816\n",
            "Epoch 4/5\n",
            "480/480 [==============================] - 118s 245ms/step - loss: 0.2038 - accuracy: 0.9402 - val_loss: 0.3344 - val_accuracy: 0.8900\n",
            "Epoch 5/5\n",
            "480/480 [==============================] - 119s 247ms/step - loss: 0.1790 - accuracy: 0.9460 - val_loss: 0.3636 - val_accuracy: 0.8882\n"
          ]
        },
        {
          "output_type": "execute_result",
          "data": {
            "text/plain": [
              "<keras.callbacks.History at 0x7f8dd28a5c50>"
            ]
          },
          "metadata": {},
          "execution_count": 12
        }
      ]
    },
    {
      "cell_type": "code",
      "source": [
        "model.save('/content/drive/MyDrive/IBM project/ECG.h5')"
      ],
      "metadata": {
        "id": "LoHL2d0zLRLB"
      },
      "execution_count": 14,
      "outputs": []
    },
    {
      "cell_type": "code",
      "source": [
        "from tensorflow.keras.models import load_model\n",
        "from keras.utils import load_img\n",
        "from keras.utils import img_to_array"
      ],
      "metadata": {
        "id": "YUWOZvZJzuR1"
      },
      "execution_count": 28,
      "outputs": []
    },
    {
      "cell_type": "code",
      "source": [
        "model=load_model('/content/drive/MyDrive/IBM project/ECG.h5')"
      ],
      "metadata": {
        "id": "iQLAQ_bo0Yzu"
      },
      "execution_count": 18,
      "outputs": []
    },
    {
      "cell_type": "code",
      "source": [
        "img=load_img('/content/drive/MyDrive/IBM project/dataset/test/Left Bundle Branch Block/fig_5906.png', target_size=(64,64))\n",
        "x=img_to_array(img)\n",
        "x=np.expand_dims(x,axis=0)\n",
        "pred=model.predict(x)\n",
        "pred_classes=['Left bundle branch block', 'Normal', 'Premature atrial contraction', 'Premature ventricular contraction','Right bundle branch block','Ventricular fibrillation']\n",
        "classes_x=np.argmax(pred)\n",
        "print(pred)\n",
        "print(pred_classes[classes_x])"
      ],
      "metadata": {
        "colab": {
          "base_uri": "https://localhost:8080/"
        },
        "id": "57DMVT9F0CIt",
        "outputId": "b70786e0-20bf-4210-de87-b4c0e4e4e8ff"
      },
      "execution_count": 36,
      "outputs": [
        {
          "output_type": "stream",
          "name": "stdout",
          "text": [
            "1/1 [==============================] - 0s 16ms/step\n",
            "[[1. 0. 0. 0. 0. 0.]]\n",
            "Left bundle branch block\n"
          ]
        }
      ]
    }
  ]
}